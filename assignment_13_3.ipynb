{
  "nbformat": 4,
  "nbformat_minor": 0,
  "metadata": {
    "colab": {
      "provenance": [],
      "authorship_tag": "ABX9TyMEUZrH9SCuxj3QKd7TQQX7",
      "include_colab_link": true
    },
    "kernelspec": {
      "name": "python3",
      "display_name": "Python 3"
    },
    "language_info": {
      "name": "python"
    }
  },
  "cells": [
    {
      "cell_type": "markdown",
      "metadata": {
        "id": "view-in-github",
        "colab_type": "text"
      },
      "source": [
        "<a href=\"https://colab.research.google.com/github/Indra1206/AI-ASSIGNMENTS/blob/main/assignment_13_3.ipynb\" target=\"_parent\"><img src=\"https://colab.research.google.com/assets/colab-badge.svg\" alt=\"Open In Colab\"/></a>"
      ]
    },
    {
      "cell_type": "markdown",
      "source": [
        "**Task 1 :**\n",
        "\n",
        "**prompt:def calculate_area(shape, x, y=0):\n",
        "if shape == \"rectangle\":\n",
        "return x * y\n",
        "elif shape == \"square\":\n",
        "return x * x\n",
        "elif shape == \"circle\":\n",
        "return 3.14 * x * x refactor the above code**"
      ],
      "metadata": {
        "id": "ZKXZaRTs4Xna"
      }
    },
    {
      "cell_type": "code",
      "metadata": {
        "colab": {
          "base_uri": "https://localhost:8080/"
        },
        "id": "c0c5fd50",
        "outputId": "16f11d70-1903-4a10-a7a5-236bfe3b4b21"
      },
      "source": [
        "import math\n",
        "\n",
        "def calculate_rectangle_area(x, y):\n",
        "  return x * y\n",
        "\n",
        "def calculate_square_area(x):\n",
        "  return x * x\n",
        "\n",
        "def calculate_circle_area(x):\n",
        "  return math.pi * x * x\n",
        "\n",
        "def calculate_area_separate_functions(shape, x, y=0):\n",
        "\n",
        "  if shape == \"rectangle\":\n",
        "    return calculate_rectangle_area(x, y)\n",
        "  elif shape == \"square\":\n",
        "    return calculate_square_area(x)\n",
        "  elif shape == \"circle\":\n",
        "    return calculate_circle_area(x)\n",
        "  else:\n",
        "    return \"Invalid shape\"\n",
        "\n",
        "# Example Usage:\n",
        "print(f\"Area of rectangle (4, 5): {calculate_area_separate_functions('rectangle', 4, 5)}\")\n",
        "print(f\"Area of square (5): {calculate_area_separate_functions('square', 5)}\")\n",
        "print(f\"Area of circle (3): {calculate_area_separate_functions('circle', 3)}\")\n",
        "print(f\"Area of triangle (4, 5): {calculate_area_separate_functions('triangle', 4, 5)}\") # Example of invalid shape"
      ],
      "execution_count": 4,
      "outputs": [
        {
          "output_type": "stream",
          "name": "stdout",
          "text": [
            "Area of rectangle (4, 5): 20\n",
            "Area of square (5): 25\n",
            "Area of circle (3): 28.274333882308138\n",
            "Area of triangle (4, 5): Invalid shape\n"
          ]
        }
      ]
    },
    {
      "cell_type": "markdown",
      "source": [
        "**observation:This Python code calculates the area of rectangles, squares, and circles by using separate functions for each shape and a main function that directs the calculation based on the shape name provided as input. It handles invalid shape inputs by returning an \"Invalid shape\" message.**\n",
        "\n"
      ],
      "metadata": {
        "id": "-IBlveMj4sjC"
      }
    },
    {
      "cell_type": "markdown",
      "source": [
        "**Task 2:**\n",
        "\n",
        "**prompt:def read_file(filename):\n",
        "f = open(filename, \"r\")\n",
        "data = f.read()\n",
        "f.close()\n",
        "return data use the legacy function and the and the refactors of open function and try expect**"
      ],
      "metadata": {
        "id": "9gaeMQG55bBS"
      }
    },
    {
      "cell_type": "code",
      "metadata": {
        "id": "952fa781"
      },
      "source": [
        "def read_file_refactored(filename):\n",
        "  try:\n",
        "    with open(filename, \"r\") as f:\n",
        "      data = f.read()\n",
        "    return data\n",
        "  except FileNotFoundError:\n",
        "    return f\"Error: The file '{filename}' was not found.\"\n",
        "  except Exception as e:\n",
        "    return f\"An error occurred: {e}\""
      ],
      "execution_count": 8,
      "outputs": []
    },
    {
      "cell_type": "markdown",
      "metadata": {
        "id": "4aaacd82"
      },
      "source": [
        "**observation:** This Python code refactors a file reading function to use the `with open()` statement, which ensures the file is properly closed after its contents are read. It includes a `try...except` block to handle potential errors like the file not being found (`FileNotFoundError`) and other general exceptions, providing informative error messages."
      ]
    },
    {
      "cell_type": "markdown",
      "metadata": {
        "id": "0e82d269"
      },
      "source": [
        "**Task 3:**\n",
        "\n",
        "**prompt:Refactor the following Python function to make it more readable and efficient. It currently checks if a number is prime in a less than optimal way.**"
      ]
    },
    {
      "cell_type": "code",
      "metadata": {
        "id": "9fdb0ee0"
      },
      "source": [
        "class Student:\n",
        "    def __init__(self, n, a, m1, m2, m3):\n",
        "        self.n = n\n",
        "        self.a = a\n",
        "        self.m1 = m1\n",
        "        self.m2 = m2\n",
        "        self.m3 = m3\n",
        "\n",
        "    def details(self):\n",
        "        print(\"Name:\", self.n, \"Age:\", self.a)\n",
        "\n",
        "    def total(self):\n",
        "        return self.m1 + self.m2 + self.m3\n",
        "\n"
      ],
      "execution_count": 13,
      "outputs": []
    },
    {
      "cell_type": "markdown",
      "metadata": {
        "id": "cd4ce2b3"
      },
      "source": [
        "**observation:** This Python code defines a `Student` class with an `__init__` method to initialize student attributes (name, age, and three marks) using abbreviated variable names. It includes methods to print the student's name and age (`details`) and calculate the sum of the three marks (`total`). The variable names are not very descriptive."
      ]
    },
    {
      "cell_type": "markdown",
      "metadata": {
        "id": "411194a8"
      },
      "source": [
        "**task 4:**\n",
        "\n",
        "**prompt:Refactor the following Python code to use a list comprehension for generating a list of squares from a given list of numbers. The original code uses a traditional for loop and append method.**"
      ]
    },
    {
      "cell_type": "code",
      "metadata": {
        "colab": {
          "base_uri": "https://localhost:8080/"
        },
        "id": "44a26e27",
        "outputId": "80683de9-ae01-42aa-caac-501438f841c7"
      },
      "source": [
        "nums = [1, 2, 3, 4, 5, 6, 7, 8, 9, 10]\n",
        "\n",
        "# Refactored using a list comprehension\n",
        "squares = [i * i for i in nums]\n",
        "\n",
        "print(squares)"
      ],
      "execution_count": 14,
      "outputs": [
        {
          "output_type": "stream",
          "name": "stdout",
          "text": [
            "[1, 4, 9, 16, 25, 36, 49, 64, 81, 100]\n"
          ]
        }
      ]
    },
    {
      "cell_type": "markdown",
      "metadata": {
        "id": "5203f7f5"
      },
      "source": [
        "**observation:** This Python code refactors a traditional `for` loop used to generate a list of squares into a more concise and Pythonic list comprehension. The list comprehension `[i * i for i in nums]` iterates through the `nums` list and creates a new list `squares` where each element is the square of the corresponding element in `nums`. This approach is generally considered more readable and often more efficient for simple list transformations."
      ]
    }
  ]
}